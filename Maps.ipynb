{
 "cells": [
  {
   "cell_type": "code",
   "execution_count": 1,
   "id": "dfa6d71f-9687-4842-9bdf-74202fd88bbb",
   "metadata": {},
   "outputs": [],
   "source": [
    "msg = \"pizza is better than donout\""
   ]
  },
  {
   "cell_type": "code",
   "execution_count": 2,
   "id": "80a1f52c-1d3f-4449-bfaa-90422b393608",
   "metadata": {},
   "outputs": [
    {
     "data": {
      "text/plain": [
       "['pizza', 'is', 'better', 'than', 'donout']"
      ]
     },
     "execution_count": 2,
     "metadata": {},
     "output_type": "execute_result"
    }
   ],
   "source": [
    "mylist = msg.split()\n",
    "mylist"
   ]
  },
  {
   "cell_type": "code",
   "execution_count": 4,
   "id": "8f3912d1-ca8b-4222-b11f-a1e8da9c7745",
   "metadata": {},
   "outputs": [
    {
     "data": {
      "text/plain": [
       "'pizza is better than donout'"
      ]
     },
     "execution_count": 4,
     "metadata": {},
     "output_type": "execute_result"
    }
   ],
   "source": [
    "#convert list -> string using join method()\n",
    "tom = ' '\n",
    "tom.join(mylist)"
   ]
  },
  {
   "cell_type": "code",
   "execution_count": 5,
   "id": "5d8f8969-10f9-4275-854e-1ed51e602409",
   "metadata": {},
   "outputs": [],
   "source": [
    "#q: replace join with slice\n",
    "msg = \"use the join method to slice string to list\""
   ]
  },
  {
   "cell_type": "code",
   "execution_count": 7,
   "id": "c3b6073a-cf52-4a51-b9ca-869f51598eef",
   "metadata": {},
   "outputs": [
    {
     "data": {
      "text/plain": [
       "['use', 'the', 'Split', 'method', 'to', 'slice', 'string', 'to', 'list']"
      ]
     },
     "execution_count": 7,
     "metadata": {},
     "output_type": "execute_result"
    }
   ],
   "source": [
    "mylist = msg.split()\n",
    "mylist[2] = 'Split'\n",
    "mylist"
   ]
  },
  {
   "cell_type": "code",
   "execution_count": 9,
   "id": "bcca1891-756e-4382-80d5-07f6c0a9eda3",
   "metadata": {},
   "outputs": [
    {
     "data": {
      "text/plain": [
       "'use the Split method to slice string to list'"
      ]
     },
     "execution_count": 9,
     "metadata": {},
     "output_type": "execute_result"
    }
   ],
   "source": [
    "ans =' '.join(mylist)\n",
    "ans"
   ]
  },
  {
   "cell_type": "code",
   "execution_count": 15,
   "id": "417497be-0df5-444e-9290-10966f5ea989",
   "metadata": {},
   "outputs": [],
   "source": [
    "#Exercise:\n",
    "tweet = \"#Money talks. #Mine always says #goodbye\""
   ]
  },
  {
   "cell_type": "code",
   "execution_count": 12,
   "id": "f9950111-4a89-4156-abe1-87cc1facc078",
   "metadata": {},
   "outputs": [],
   "source": [
    "#objective : extract hashtags\n",
    "#expected output: #money #mine #goodbye\n"
   ]
  },
  {
   "cell_type": "code",
   "execution_count": 13,
   "id": "32d5dd8b-82d5-45fb-b473-a748de0f5313",
   "metadata": {},
   "outputs": [],
   "source": [
    "mylist = tweet.split()"
   ]
  },
  {
   "cell_type": "code",
   "execution_count": 16,
   "id": "e984ad7e-42b1-4e59-adea-b2877ebe5543",
   "metadata": {},
   "outputs": [
    {
     "data": {
      "text/plain": [
       "['#Money', 'talks.', 'Mine', 'always', 'says', 'goodbye']"
      ]
     },
     "execution_count": 16,
     "metadata": {},
     "output_type": "execute_result"
    }
   ],
   "source": [
    "mylist"
   ]
  },
  {
   "cell_type": "code",
   "execution_count": 17,
   "id": "3d0930bd-b0c5-4f94-bcd0-3515aae175b6",
   "metadata": {},
   "outputs": [
    {
     "ename": "TypeError",
     "evalue": "list indices must be integers or slices, not str",
     "output_type": "error",
     "traceback": [
      "\u001b[1;31m---------------------------------------------------------------------------\u001b[0m",
      "\u001b[1;31mTypeError\u001b[0m                                 Traceback (most recent call last)",
      "\u001b[1;32m<ipython-input-17-503219665dca>\u001b[0m in \u001b[0;36m<module>\u001b[1;34m\u001b[0m\n\u001b[0;32m      1\u001b[0m \u001b[1;32mfor\u001b[0m \u001b[0mi\u001b[0m \u001b[1;32min\u001b[0m \u001b[0mmylist\u001b[0m\u001b[1;33m:\u001b[0m\u001b[1;33m\u001b[0m\u001b[1;33m\u001b[0m\u001b[0m\n\u001b[1;32m----> 2\u001b[1;33m     \u001b[1;32mfor\u001b[0m \u001b[0mj\u001b[0m \u001b[1;32min\u001b[0m \u001b[0mmylist\u001b[0m\u001b[1;33m[\u001b[0m\u001b[0mi\u001b[0m\u001b[1;33m]\u001b[0m\u001b[1;33m:\u001b[0m\u001b[1;33m\u001b[0m\u001b[1;33m\u001b[0m\u001b[0m\n\u001b[0m\u001b[0;32m      3\u001b[0m         \u001b[1;32mif\u001b[0m \u001b[0mmylist\u001b[0m\u001b[1;33m[\u001b[0m\u001b[0mi\u001b[0m\u001b[1;33m]\u001b[0m\u001b[1;33m[\u001b[0m\u001b[0mj\u001b[0m\u001b[1;33m]\u001b[0m \u001b[1;33m==\u001b[0m \u001b[1;34m'#'\u001b[0m\u001b[1;33m:\u001b[0m\u001b[1;33m\u001b[0m\u001b[1;33m\u001b[0m\u001b[0m\n\u001b[0;32m      4\u001b[0m             \u001b[0mprint\u001b[0m\u001b[1;33m(\u001b[0m\u001b[0mmylist\u001b[0m\u001b[1;33m[\u001b[0m\u001b[0mi\u001b[0m\u001b[1;33m]\u001b[0m\u001b[1;33m)\u001b[0m\u001b[1;33m\u001b[0m\u001b[1;33m\u001b[0m\u001b[0m\n",
      "\u001b[1;31mTypeError\u001b[0m: list indices must be integers or slices, not str"
     ]
    }
   ],
   "source": [
    "for i in mylist:\n",
    "    for j in mylist[i]:\n",
    "        if mylist[i][j] == '#':\n",
    "            print(mylist[i])\n",
    "            \n",
    "#wrong solution"
   ]
  },
  {
   "cell_type": "code",
   "execution_count": 21,
   "id": "cf3ea9d8-6911-4b31-b299-b72df59ff396",
   "metadata": {},
   "outputs": [
    {
     "name": "stdout",
     "output_type": "stream",
     "text": [
      "#Money\n"
     ]
    }
   ],
   "source": [
    "#correct solution\n",
    "for i in mylist:\n",
    "    if i.startswith('#'):\n",
    "        print(i)"
   ]
  },
  {
   "cell_type": "code",
   "execution_count": 23,
   "id": "0d7ed25c-eb36-4f8d-b585-d2a3ed1f0346",
   "metadata": {},
   "outputs": [],
   "source": [
    "#Exercise:\n",
    "colors = \"red green indigo cyan orange purple violet\"\n",
    "#Create a newlist çlist'and store all the colors starting with a vowel"
   ]
  },
  {
   "cell_type": "code",
   "execution_count": 26,
   "id": "b168e281-bd53-461b-acc9-feb1f036340c",
   "metadata": {},
   "outputs": [
    {
     "name": "stdout",
     "output_type": "stream",
     "text": [
      "['red', 'green', 'indigo', 'cyan', 'orange', 'purple', 'violet']\n"
     ]
    }
   ],
   "source": [
    "blist = colors.split(' ')\n",
    "print(blist)"
   ]
  },
  {
   "cell_type": "code",
   "execution_count": 29,
   "id": "62a69373-5070-4800-9e84-39add43a379f",
   "metadata": {},
   "outputs": [
    {
     "ename": "SyntaxError",
     "evalue": "invalid syntax (<ipython-input-29-4218b5066e82>, line 2)",
     "output_type": "error",
     "traceback": [
      "\u001b[1;36m  File \u001b[1;32m\"<ipython-input-29-4218b5066e82>\"\u001b[1;36m, line \u001b[1;32m2\u001b[0m\n\u001b[1;33m    if i.startswith('a') ==0 || i.startswith('e') ==0 || i.startswith('i') ==0 || i.startswith('o') ==0 || i.startswith('u') ==0:\u001b[0m\n\u001b[1;37m                              ^\u001b[0m\n\u001b[1;31mSyntaxError\u001b[0m\u001b[1;31m:\u001b[0m invalid syntax\n"
     ]
    }
   ],
   "source": [
    "for i in blist:\n",
    "    if i.startswith('a') ==0 or i.startswith('e') ==0 or i.startswith('i') ==0 or i.startswith('o') ==0 || i.startswith('u') ==0:\n",
    "        print(i)\n",
    "#wrong code"
   ]
  },
  {
   "cell_type": "code",
   "execution_count": 32,
   "id": "1ba175fd-69ce-4890-8302-258015a1c113",
   "metadata": {},
   "outputs": [
    {
     "name": "stdout",
     "output_type": "stream",
     "text": [
      "indigo\n",
      "orange\n"
     ]
    }
   ],
   "source": [
    "#correct code\n",
    "for color in blist:\n",
    "    if color[0] in 'aeiou':\n",
    "        print(color)"
   ]
  },
  {
   "cell_type": "code",
   "execution_count": 33,
   "id": "7b3ab875-06b3-4f4e-824c-d67d900bca6e",
   "metadata": {},
   "outputs": [],
   "source": [
    "clist=[]\n",
    "clist.append(color) #adding the colors here"
   ]
  },
  {
   "cell_type": "code",
   "execution_count": 34,
   "id": "5b58bfed-5f46-4da1-8e25-afa5f862dc28",
   "metadata": {},
   "outputs": [],
   "source": [
    "#Qesyion: add sum of digits and average\n",
    "str1 = \"English = 78 Science = 83 Math =68\""
   ]
  },
  {
   "cell_type": "code",
   "execution_count": 35,
   "id": "6160b4eb-b48b-4d36-9ec4-a1e1245414aa",
   "metadata": {},
   "outputs": [
    {
     "name": "stdout",
     "output_type": "stream",
     "text": [
      "['English', '=', '78', 'Science', '=', '83', 'Math', '=68']\n"
     ]
    }
   ],
   "source": [
    "mylist = str1.split(' ')\n",
    "print(mylist)"
   ]
  },
  {
   "cell_type": "code",
   "execution_count": 39,
   "id": "3c98c15f-3c80-43b6-8f17-02d0848f6ab1",
   "metadata": {},
   "outputs": [
    {
     "ename": "SyntaxError",
     "evalue": "invalid syntax (<ipython-input-39-cf3863c4efde>, line 6)",
     "output_type": "error",
     "traceback": [
      "\u001b[1;36m  File \u001b[1;32m\"<ipython-input-39-cf3863c4efde>\"\u001b[1;36m, line \u001b[1;32m6\u001b[0m\n\u001b[1;33m    n = (int)i\u001b[0m\n\u001b[1;37m             ^\u001b[0m\n\u001b[1;31mSyntaxError\u001b[0m\u001b[1;31m:\u001b[0m invalid syntax\n"
     ]
    }
   ],
   "source": [
    "sum1 = 0;\n",
    "avg = 0;\n",
    "c = 0;\n",
    "for i in mylist:\n",
    "    if i.isdigit():\n",
    "        n = (int)i\n",
    "        sum1 = sum1+n\n",
    "        c = c+1\n",
    "avg=sum1/c;\n",
    "print(sum1)\n",
    "print(avg)\n",
    "#incorrect code"
   ]
  },
  {
   "cell_type": "code",
   "execution_count": 47,
   "id": "b3648fd3-9700-43b1-bbe2-777594b54695",
   "metadata": {},
   "outputs": [
    {
     "name": "stdin",
     "output_type": "stream",
     "text": [
      "enter the value 5\n"
     ]
    },
    {
     "name": "stdout",
     "output_type": "stream",
     "text": [
      "too low\n"
     ]
    },
    {
     "name": "stdin",
     "output_type": "stream",
     "text": [
      "enter the value 8\n"
     ]
    },
    {
     "name": "stdout",
     "output_type": "stream",
     "text": [
      "too low\n"
     ]
    },
    {
     "name": "stdin",
     "output_type": "stream",
     "text": [
      "enter the value 8\n"
     ]
    },
    {
     "name": "stdout",
     "output_type": "stream",
     "text": [
      "too low\n"
     ]
    },
    {
     "name": "stdin",
     "output_type": "stream",
     "text": [
      "enter the value 5\n"
     ]
    },
    {
     "name": "stdout",
     "output_type": "stream",
     "text": [
      "too low\n"
     ]
    },
    {
     "name": "stdin",
     "output_type": "stream",
     "text": [
      "enter the value 9\n"
     ]
    },
    {
     "name": "stdout",
     "output_type": "stream",
     "text": [
      "too low\n"
     ]
    },
    {
     "name": "stdin",
     "output_type": "stream",
     "text": [
      "enter the value 10\n"
     ]
    },
    {
     "name": "stdout",
     "output_type": "stream",
     "text": [
      "too low\n",
      "too many guesses\n"
     ]
    }
   ],
   "source": [
    "import random\n",
    "x = random.randint(0,20)\n",
    "for i in range(6):\n",
    "    y = int(input(\"enter the value\"))\n",
    "    if x > y:\n",
    "            print(\"too low\")\n",
    "    if x < y:\n",
    "            print(\"too high\")\n",
    "    if x == y:\n",
    "            print(\"right guess\")    \n",
    "else:\n",
    "        print(\"too many guesses\")\n",
    "    \n"
   ]
  },
  {
   "cell_type": "code",
   "execution_count": 1,
   "id": "42384e8b-60f2-4e8b-aaff-48c947af2b40",
   "metadata": {},
   "outputs": [],
   "source": [
    "# List of order ID’s which are processed \n",
    "processed_orders = [1152, 1154, 1155, 1156, 1157, 1160, 1161, 1162, 1166, 1169, 1170, 1172, 1176, 1050, 1178, 1051, 1052, 1054, 1058, 1060, 1061, 1062, 1065, 1066, 1067, 1068, 1069, 1076, 1077, 1080, 1081, 1083, 1091, 1085, 1088, 1089, 1131, 1092, 1094, 1095, 1099, 1102, 1103, 1104, 1106, 1107, 1108, 1109, 1111, 1117, 1119, 1121, 1150, 1128, 1129, 1136, 1137, 1139, 1140, 1141, 1144, 1148, 1124]\n",
    "\n",
    "# List of order ID’s which are returned\n",
    "returned_orders = [1153, 1158, 1159, 1163, 1164, 1165, 1167, 1168, 1171, 1173, 1174, 1175, 1177, 1053, 1055, 1056, 1057, 1059, 1063, 1064, 1070, 1071, 1072, 1073, 1074, 1075, 1078, 1079, 1082, 1084, 1086, 1087, 1090, 1093, 1096, 1097, 1098, 1100, 1101, 1105, 1110, 1112, 1113, 1114, 1115, 1116, 1118, 1120, 1122, 1123, 1125, 1126, 1127, 1130, 1132, 1133, 1134, 1135, 1138, 1142, 1143, 1145, 1146, 1147, 1149, 1151]\n"
   ]
  },
  {
   "cell_type": "code",
   "execution_count": 11,
   "id": "7ed87d16-ed8e-4571-861d-61eff65cec84",
   "metadata": {},
   "outputs": [],
   "source": [
    "orders = sorted(processed_orders + returned_orders)"
   ]
  },
  {
   "cell_type": "code",
   "execution_count": 12,
   "id": "dfdc8f20-1fc9-492c-ae43-2012716bc6f0",
   "metadata": {},
   "outputs": [
    {
     "name": "stdout",
     "output_type": "stream",
     "text": [
      "[1050, 1051, 1052, 1053, 1054, 1055, 1056, 1057, 1058, 1059, 1060, 1061, 1062, 1063, 1064, 1065, 1066, 1067, 1068, 1069, 1070, 1071, 1072, 1073, 1074, 1075, 1076, 1077, 1078, 1079, 1080, 1081, 1082, 1083, 1084, 1085, 1086, 1087, 1088, 1089, 1090, 1091, 1092, 1093, 1094, 1095, 1096, 1097, 1098, 1099, 1100, 1101, 1102, 1103, 1104, 1105, 1106, 1107, 1108, 1109, 1110, 1111, 1112, 1113, 1114, 1115, 1116, 1117, 1118, 1119, 1120, 1121, 1122, 1123, 1124, 1125, 1126, 1127, 1128, 1129, 1130, 1131, 1132, 1133, 1134, 1135, 1136, 1137, 1138, 1139, 1140, 1141, 1142, 1143, 1144, 1145, 1146, 1147, 1148, 1149, 1150, 1151, 1152, 1153, 1154, 1155, 1156, 1157, 1158, 1159, 1160, 1161, 1162, 1163, 1164, 1165, 1166, 1167, 1168, 1169, 1170, 1171, 1172, 1173, 1174, 1175, 1176, 1177, 1178]\n",
      "1100\n",
      "1099\n"
     ]
    }
   ],
   "source": [
    "print(orders)\n",
    "print(orders[50])\n",
    "print(orders[49])"
   ]
  },
  {
   "cell_type": "code",
   "execution_count": 4,
   "id": "565cd2d1-a7f4-44d0-8919-20c421c14830",
   "metadata": {},
   "outputs": [
    {
     "name": "stdout",
     "output_type": "stream",
     "text": [
      "{1050, 1051, 1052, 1053, 1054, 1055, 1056, 1057, 1058, 1059, 1060, 1061, 1062, 1063, 1064, 1065, 1066, 1067, 1068, 1069, 1070, 1071, 1072, 1073, 1074, 1075, 1076, 1077, 1078, 1079, 1080, 1081, 1082, 1083, 1084, 1085, 1086, 1087, 1088, 1089, 1090, 1091, 1092, 1093, 1094, 1095, 1096, 1097, 1098, 1099, 1100, 1101, 1102, 1103, 1104, 1105, 1106, 1107, 1108, 1109, 1110, 1111, 1112, 1113, 1114, 1115, 1116, 1117, 1118, 1119, 1120, 1121, 1122, 1123, 1124, 1125, 1126, 1127, 1128, 1129, 1130, 1131, 1132, 1133, 1134, 1135, 1136, 1137, 1138, 1139, 1140, 1141, 1142, 1143, 1144, 1145, 1146, 1147, 1148, 1149, 1150, 1151, 1152, 1153, 1154, 1155, 1156, 1157, 1158, 1159, 1160, 1161, 1162, 1163, 1164, 1165, 1166, 1167, 1168, 1169, 1170, 1171, 1172, 1173, 1174, 1175, 1176, 1177, 1178}\n"
     ]
    }
   ],
   "source": [
    "final_ord = set(orders)\n",
    "print(final_ord)"
   ]
  },
  {
   "cell_type": "code",
   "execution_count": 6,
   "id": "77129bff-0a74-448b-89d6-f330074b226b",
   "metadata": {},
   "outputs": [
    {
     "name": "stdout",
     "output_type": "stream",
     "text": [
      "129\n"
     ]
    }
   ],
   "source": [
    "print(len(final_ord))"
   ]
  },
  {
   "cell_type": "code",
   "execution_count": 9,
   "id": "c4460a00-56f1-4638-bb79-d795bc93a20b",
   "metadata": {},
   "outputs": [
    {
     "name": "stdout",
     "output_type": "stream",
     "text": [
      "1099\n"
     ]
    }
   ],
   "source": [
    "lfirst = list(final_ord)\n",
    "print(lfirst[49])"
   ]
  },
  {
   "cell_type": "code",
   "execution_count": 1,
   "id": "2e2ef25b-dbdf-455d-be4b-4c8a3dd93b9c",
   "metadata": {},
   "outputs": [],
   "source": [
    "Employee_data ={101: 43, 102: 25, 103: 43, 104: 31, 105: 26, 106: 28, 107: 29, 108: 43, 109: 25, 110: 22, 111: 22, 112: 25, 113: 30, 115: 45, 116: 23, 117: 29, 118: 28, 119: 30, 120: 28, 121: 42, 122: 39, 123: 29, 124: 42, 125: 43, 126: 42, 127: 40, 128: 27, 129: 23, 130: 30, 131: 37, 132: 20, 133: 36, 134: 27, 135: 27, 136: 22, 137: 28, 138: 23, 139: 45, 140: 39, 141: 29, 142: 33, 143: 39, 145: 34, 146: 26, 147: 30, 148: 38, 149: 29, 150: 24, 151: 28, 152: 34, 153: 42, 154: 29, 155: 23, 156: 31, 158: 25, 160: 45, 161: 42, 162: 27, 163: 24, 164: 20, 166: 24, 167: 28, 168: 20, 169: 33, 170: 34, 171: 37, 172: 45, 173: 35, 174: 23, 175: 44, 176: 27, 177: 30, 178: 26, 179: 27} \n"
   ]
  },
  {
   "cell_type": "code",
   "execution_count": 4,
   "id": "cfd9d6c7-d5df-4478-92c7-997d52532b81",
   "metadata": {},
   "outputs": [
    {
     "name": "stdout",
     "output_type": "stream",
     "text": [
      "[20, 20, 20, 22, 22, 22, 23, 23, 23, 23, 23, 24, 24, 24, 25, 25, 25, 25, 26, 26, 26, 27, 27, 27, 27, 27, 27, 28, 28, 28, 28, 28, 28, 29, 29, 29, 29, 29, 29, 30, 30, 30, 30, 30, 31, 31, 33, 33, 34, 34, 34, 35, 36, 37, 37, 38, 39, 39, 39, 40, 42, 42, 42, 42, 42, 43, 43, 43, 43, 44, 45, 45, 45, 45]\n"
     ]
    }
   ],
   "source": [
    "y= sorted(Employee_data.values())\n",
    "print(y)"
   ]
  },
  {
   "cell_type": "code",
   "execution_count": 6,
   "id": "32de12a5-8049-4ada-9111-156952d342af",
   "metadata": {},
   "outputs": [
    {
     "name": "stdout",
     "output_type": "stream",
     "text": [
      "None\n"
     ]
    }
   ],
   "source": [
    "print(Employee_data.get(159))"
   ]
  },
  {
   "cell_type": "code",
   "execution_count": 8,
   "id": "6babf1ea-5372-42f9-b969-dc01e65c69c6",
   "metadata": {},
   "outputs": [
    {
     "name": "stdout",
     "output_type": "stream",
     "text": [
      "74\n"
     ]
    }
   ],
   "source": [
    "print(len(Employee_data))"
   ]
  },
  {
   "cell_type": "code",
   "execution_count": 11,
   "id": "c6449496-5892-46f9-a377-80602a732c90",
   "metadata": {},
   "outputs": [
    {
     "name": "stdout",
     "output_type": "stream",
     "text": [
      "31.364864864864863\n"
     ]
    }
   ],
   "source": [
    "avg = sum(y)/len(Employee_data)\n",
    "print(avg)"
   ]
  },
  {
   "cell_type": "code",
   "execution_count": 13,
   "id": "9db667c1-5a66-4f90-b868-da6bbb155c7b",
   "metadata": {},
   "outputs": [
    {
     "name": "stdout",
     "output_type": "stream",
     "text": [
      "27\n"
     ]
    }
   ],
   "source": [
    "Employee_data['104'] = 27\n",
    "Employee_data['140'] = 27\n",
    "Employee_data['164'] = 27\n",
    "print(Employee_data['104'])"
   ]
  },
  {
   "cell_type": "code",
   "execution_count": 16,
   "id": "5bb9e5ca-ec42-4c3c-946d-26f0595db2a6",
   "metadata": {},
   "outputs": [],
   "source": [
    "del Employee_data[143]"
   ]
  },
  {
   "cell_type": "code",
   "execution_count": 18,
   "id": "455abc22-0063-4661-b7dc-1a83542d4762",
   "metadata": {},
   "outputs": [
    {
     "name": "stdout",
     "output_type": "stream",
     "text": [
      "31.092105263157894\n"
     ]
    }
   ],
   "source": [
    "avg = sum(Employee_data.values())/len(Employee_data)\n",
    "print(avg)"
   ]
  },
  {
   "cell_type": "code",
   "execution_count": null,
   "id": "41c68117-b76c-46de-a73d-174a62fed476",
   "metadata": {},
   "outputs": [],
   "source": [
    "s = 0\n",
    "n = 11\n",
    "for i in range(2:n):\n",
    "    flag = 0\n",
    "\n",
    "\tfor j in range(2: to (integer value of sqrt(i) +1)\n",
    "        CHECK IF i%j is equal to 0\n",
    "        If true, increment 'flag' by 1\n",
    "        BREAK \n",
    "        \n",
    "END inner loop\n",
    "\n",
    "CHECK IF 'flag' is equal to 0\n",
    "If true, increment 's' by 'i'\n",
    "END outer loop\n",
    "\n",
    "Print the value of 's'"
   ]
  },
  {
   "cell_type": "code",
   "execution_count": 1,
   "id": "23b7d634-8581-46e2-9479-35314015c2ed",
   "metadata": {},
   "outputs": [
    {
     "name": "stdout",
     "output_type": "stream",
     "text": [
      "0\n",
      "1\n",
      "2\n"
     ]
    }
   ],
   "source": [
    "d = {0: 'Fish', 1: 'Bird', 2: 'Mammal'}\n",
    "for i in d:\n",
    "    print(i)"
   ]
  },
  {
   "cell_type": "code",
   "execution_count": 2,
   "id": "5330e3f0-3c6f-4a3b-bc60-b03e3b499a1d",
   "metadata": {},
   "outputs": [
    {
     "data": {
      "text/plain": [
       "9996"
      ]
     },
     "execution_count": 2,
     "metadata": {},
     "output_type": "execute_result"
    }
   ],
   "source": [
    "min = (lambda x, y: x if x < y else y)\n",
    "min(101*99, 102*98)"
   ]
  },
  {
   "cell_type": "code",
   "execution_count": 4,
   "id": "34bde0c0-4491-41a8-afb1-549e477f6145",
   "metadata": {},
   "outputs": [
    {
     "ename": "SyntaxError",
     "evalue": "invalid syntax (<ipython-input-4-3f63b6b48e6e>, line 1)",
     "output_type": "error",
     "traceback": [
      "\u001b[1;36m  File \u001b[1;32m\"<ipython-input-4-3f63b6b48e6e>\"\u001b[1;36m, line \u001b[1;32m1\u001b[0m\n\u001b[1;33m    mylist = ['even' for i in range(1,11) if i%2==0 else 'odd']\u001b[0m\n\u001b[1;37m                                                    ^\u001b[0m\n\u001b[1;31mSyntaxError\u001b[0m\u001b[1;31m:\u001b[0m invalid syntax\n"
     ]
    }
   ],
   "source": [
    "mylist = ['even' for i in range(1,11) if i%2==0 else 'odd']\n",
    "mylist"
   ]
  },
  {
   "cell_type": "code",
   "execution_count": 5,
   "id": "6196b75c-9899-4708-b919-b856affa5ae5",
   "metadata": {},
   "outputs": [],
   "source": [
    "nba = [110,215,190]"
   ]
  },
  {
   "cell_type": "code",
   "execution_count": 8,
   "id": "c7d2f9ac-f3f4-4ef1-b4e1-a3040ce77f56",
   "metadata": {},
   "outputs": [
    {
     "data": {
      "text/plain": [
       "[49.83, 97.395, 86.07000000000001]"
      ]
     },
     "execution_count": 8,
     "metadata": {},
     "output_type": "execute_result"
    }
   ],
   "source": [
    "kg= [nba[i]*0.453 for i in range(0, len(nba))]\n",
    "kg"
   ]
  },
  {
   "cell_type": "code",
   "execution_count": 9,
   "id": "e92525b7-5e9a-4218-bb60-0d797077c4f7",
   "metadata": {},
   "outputs": [],
   "source": [
    "happiness = ['bliss','paradise','prosperity','euphoria']"
   ]
  },
  {
   "cell_type": "code",
   "execution_count": 12,
   "id": "9e9f4076-8d32-4ffd-a7ae-bddd55a82b43",
   "metadata": {},
   "outputs": [
    {
     "ename": "IndexError",
     "evalue": "list index out of range",
     "output_type": "error",
     "traceback": [
      "\u001b[1;31m---------------------------------------------------------------------------\u001b[0m",
      "\u001b[1;31mIndexError\u001b[0m                                Traceback (most recent call last)",
      "\u001b[1;32m<ipython-input-12-3be4f3be420a>\u001b[0m in \u001b[0;36m<module>\u001b[1;34m\u001b[0m\n\u001b[0;32m      1\u001b[0m \u001b[0mgarbage\u001b[0m \u001b[1;33m=\u001b[0m \u001b[1;33m[\u001b[0m\u001b[1;36m100\u001b[0m\u001b[1;33m,\u001b[0m\u001b[1;34m'hello'\u001b[0m\u001b[1;33m,\u001b[0m\u001b[1;32mTrue\u001b[0m\u001b[1;33m,\u001b[0m\u001b[1;36m200\u001b[0m\u001b[1;33m,\u001b[0m\u001b[1;33m[\u001b[0m\u001b[1;36m10\u001b[0m\u001b[1;33m,\u001b[0m\u001b[1;36m20\u001b[0m\u001b[1;33m]\u001b[0m\u001b[1;33m,\u001b[0m\u001b[1;32mFalse\u001b[0m\u001b[1;33m,\u001b[0m\u001b[1;36m300\u001b[0m\u001b[1;33m]\u001b[0m\u001b[1;33m\u001b[0m\u001b[1;33m\u001b[0m\u001b[0m\n\u001b[1;32m----> 2\u001b[1;33m \u001b[0mlist\u001b[0m\u001b[1;33m(\u001b[0m\u001b[0mfilter\u001b[0m\u001b[1;33m(\u001b[0m\u001b[1;32mlambda\u001b[0m \u001b[0mt\u001b[0m\u001b[1;33m:\u001b[0m\u001b[0mgarbage\u001b[0m\u001b[1;33m[\u001b[0m\u001b[0mt\u001b[0m\u001b[1;33m]\u001b[0m\u001b[1;33m.\u001b[0m\u001b[0mtype\u001b[0m\u001b[1;33m(\u001b[0m\u001b[1;33m)\u001b[0m \u001b[1;33m==\u001b[0m \u001b[0mint\u001b[0m \u001b[1;32min\u001b[0m \u001b[0mgarbage\u001b[0m\u001b[1;33m,\u001b[0m\u001b[0mgarbage\u001b[0m \u001b[1;33m)\u001b[0m\u001b[1;33m)\u001b[0m\u001b[1;33m\u001b[0m\u001b[1;33m\u001b[0m\u001b[0m\n\u001b[0m",
      "\u001b[1;32m<ipython-input-12-3be4f3be420a>\u001b[0m in \u001b[0;36m<lambda>\u001b[1;34m(t)\u001b[0m\n\u001b[0;32m      1\u001b[0m \u001b[0mgarbage\u001b[0m \u001b[1;33m=\u001b[0m \u001b[1;33m[\u001b[0m\u001b[1;36m100\u001b[0m\u001b[1;33m,\u001b[0m\u001b[1;34m'hello'\u001b[0m\u001b[1;33m,\u001b[0m\u001b[1;32mTrue\u001b[0m\u001b[1;33m,\u001b[0m\u001b[1;36m200\u001b[0m\u001b[1;33m,\u001b[0m\u001b[1;33m[\u001b[0m\u001b[1;36m10\u001b[0m\u001b[1;33m,\u001b[0m\u001b[1;36m20\u001b[0m\u001b[1;33m]\u001b[0m\u001b[1;33m,\u001b[0m\u001b[1;32mFalse\u001b[0m\u001b[1;33m,\u001b[0m\u001b[1;36m300\u001b[0m\u001b[1;33m]\u001b[0m\u001b[1;33m\u001b[0m\u001b[1;33m\u001b[0m\u001b[0m\n\u001b[1;32m----> 2\u001b[1;33m \u001b[0mlist\u001b[0m\u001b[1;33m(\u001b[0m\u001b[0mfilter\u001b[0m\u001b[1;33m(\u001b[0m\u001b[1;32mlambda\u001b[0m \u001b[0mt\u001b[0m\u001b[1;33m:\u001b[0m\u001b[0mgarbage\u001b[0m\u001b[1;33m[\u001b[0m\u001b[0mt\u001b[0m\u001b[1;33m]\u001b[0m\u001b[1;33m.\u001b[0m\u001b[0mtype\u001b[0m\u001b[1;33m(\u001b[0m\u001b[1;33m)\u001b[0m \u001b[1;33m==\u001b[0m \u001b[0mint\u001b[0m \u001b[1;32min\u001b[0m \u001b[0mgarbage\u001b[0m\u001b[1;33m,\u001b[0m\u001b[0mgarbage\u001b[0m \u001b[1;33m)\u001b[0m\u001b[1;33m)\u001b[0m\u001b[1;33m\u001b[0m\u001b[1;33m\u001b[0m\u001b[0m\n\u001b[0m",
      "\u001b[1;31mIndexError\u001b[0m: list index out of range"
     ]
    }
   ],
   "source": [
    "garbage = [100,'hello',True,200,[10,20],False,300]\n",
    "list(filter(lambda t:garbage[t].type() == int in garbage,garbage ))"
   ]
  },
  {
   "cell_type": "code",
   "execution_count": 15,
   "id": "44e1af59-e1b2-4bad-bb14-26d007b541f6",
   "metadata": {},
   "outputs": [
    {
     "data": {
      "text/plain": [
       "[100, 200, 300]"
      ]
     },
     "execution_count": 15,
     "metadata": {},
     "output_type": "execute_result"
    }
   ],
   "source": [
    "list(filter(lambda item: type(item)==int, garbage))"
   ]
  },
  {
   "cell_type": "code",
   "execution_count": 20,
   "id": "5b647e81-a5e5-4eb0-aa21-c62e9a5a903c",
   "metadata": {},
   "outputs": [],
   "source": [
    "pokemons = open('pokemon.csv').readlines()"
   ]
  },
  {
   "cell_type": "code",
   "execution_count": 23,
   "id": "77d33bca-d1e6-441c-8437-5132d6e1eebc",
   "metadata": {},
   "outputs": [
    {
     "name": "stdout",
     "output_type": "stream",
     "text": [
      "['Pokemon,Type\\n', 'Bulbasaur,Grass\\n', 'Ivysaur,Grass\\n', 'Venusaur,Grass\\n', 'Charmander,Fire\\n', 'Charmeleon,Fire\\n', 'Charizard,Fire\\n', 'Squirtle,Water\\n', 'Wartortle,Water\\n', 'Blastoise,Water\\n', 'Caterpie,Bug\\n', 'Metapod,Bug\\n', 'Butterfree,Bug\\n', 'Weedle,Bug\\n', 'Kakuna,Bug\\n', 'Beedrill,Bug\\n', 'Pidgey,Normal\\n', 'Pidgeotto,Normal\\n', 'Pidgeot,Normal\\n', 'Rattata,Normal\\n', 'Raticate,Normal\\n', 'Spearow,Normal\\n', 'Fearow,Normal\\n', 'Ekans,Poison\\n', 'Arbok,Poison\\n', 'Pikachu,Electric\\n', 'Raichu,Electric\\n', 'Sandshrew,Ground\\n', 'Sandslash,Ground\\n', 'Nidoran,Poison\\n', 'Nidorina,Poison\\n', 'Nidoqueen,Poison\\n', 'Nidoranâ™‚,Poison\\n', 'Nidorino,Poison\\n', 'Nidoking,Poison\\n', 'Clefairy,Fairy\\n', 'Clefable,Fairy\\n', 'Vulpix,Fire\\n', 'Ninetales,Fire\\n', 'Jigglypuff,Normal\\n', 'Wigglytuff,Normal\\n', 'Zubat,Poison\\n', 'Golbat,Poison\\n', 'Oddish,Grass\\n', 'Gloom,Grass\\n', 'Vileplume,Grass\\n', 'Paras,Bug\\n', 'Parasect,Bug\\n', 'Venonat,Bug\\n', 'Venomoth,Bug\\n', 'Diglett,Ground\\n', 'Dugtrio,Ground\\n', 'Meowth,Normal\\n', 'Persian,Normal\\n', 'Psyduck,Water\\n', 'Golduck,Water\\n', 'Mankey,Fighting\\n', 'Primeape,Fighting\\n', 'Growlithe,Fire\\n', 'Arcanine,Fire\\n', 'Poliwag,Water\\n', 'Poliwhirl,Water\\n', 'Poliwrath,Water\\n', 'Abra,Psychic\\n', 'Kadabra,Psychic\\n', 'Alakazam,Psychic\\n', 'Machop,Fighting\\n', 'Machoke,Fighting\\n', 'Machamp,Fighting\\n', 'Bellsprout,Grass\\n', 'Weepinbell,Grass\\n', 'Victreebel,Grass\\n', 'Tentacool,Water\\n', 'Tentacruel,Water\\n', 'Geodude,Rock\\n', 'Graveler,Rock\\n', 'Golem,Rock\\n', 'Ponyta,Fire\\n', 'Rapidash,Fire\\n', 'Slowpoke,Water\\n', 'Slowbro,Water\\n', 'Magnemite,Electric\\n', 'Magneton,Electric\\n', \"Farfetch'd,Normal\\n\", 'Doduo,Normal\\n', 'Dodrio,Normal\\n', 'Seel,Water\\n', 'Dewgong,Water\\n', 'Grimer,Poison\\n', 'Muk,Poison\\n', 'Shellder,Water\\n', 'Cloyster,Water\\n', 'Gastly,Ghost\\n', 'Haunter,Ghost\\n', 'Gengar,Ghost\\n', 'Onix,Rock\\n', 'Drowzee,Psychic\\n', 'Hypno,Psychic\\n', 'Krabby,Water\\n', 'Kingler,Water\\n', 'Voltorb,Electric\\n', 'Electrode,Electric\\n', 'Exeggcute,Grass\\n', 'Exeggutor,Grass\\n', 'Cubone,Ground\\n', 'Marowak,Ground\\n', 'Hitmonlee,Fighting\\n', 'Hitmonchan,Fighting\\n', 'Lickitung,Normal\\n', 'Koffing,Poison\\n', 'Weezing,Poison\\n', 'Rhyhorn,Ground\\n', 'Rhydon,Ground\\n', 'Chansey,Normal\\n', 'Tangela,Grass\\n', 'Kangaskhan,Normal\\n', 'Horsea,Water\\n', 'Seadra,Water\\n', 'Goldeen,Water\\n', 'Seaking,Water\\n', 'Staryu,Water\\n', 'Starmie,Water\\n', 'Mr. Mime,Psychic\\n', 'Scyther,Bug\\n', 'Jynx,Ice\\n', 'Electabuzz,Electric\\n', 'Magmar,Fire\\n', 'Pinsir,Bug\\n', 'Tauros,Normal\\n', 'Magikarp,Water\\n', 'Gyarados,Water\\n', 'Lapras,Water\\n', 'Ditto,Normal\\n', 'Eevee,Normal\\n', 'Vaporeon,Water\\n', 'Jolteon,Electric\\n', 'Flareon,Fire\\n', 'Porygon,Normal\\n', 'Omanyte,Rock\\n', 'Omastar,Rock\\n', 'Kabuto,Rock\\n', 'Kabutops,Rock\\n', 'Aerodactyl,Rock\\n', 'Snorlax,Normal\\n', 'Articuno,Ice\\n', 'Zapdos,Electric\\n', 'Moltres,Fire\\n', 'Dratini,Dragon\\n', 'Dragonair,Dragon\\n', 'Dragonite,Dragon\\n', 'Mewtwo,Psychic\\n', 'Mew,Psychic\\n', 'Chikorita,Grass\\n', 'Bayleef,Grass\\n', 'Meganium,Grass\\n', 'Cyndaquil,Fire\\n', 'Quilava,Fire\\n', 'Typhlosion,Fire\\n', 'Totodile,Water\\n', 'Croconaw,Water\\n', 'Feraligatr,Water\\n', 'Sentret,Normal\\n', 'Furret,Normal\\n', 'Hoothoot,Normal\\n', 'Noctowl,Normal\\n', 'Ledyba,Bug\\n', 'Ledian,Bug\\n', 'Spinarak,Bug\\n', 'Ariados,Bug\\n', 'Crobat,Poison\\n', 'Chinchou,Water\\n', 'Lanturn,Water\\n', 'Pichu,Electric\\n', 'Cleffa,Fairy\\n', 'Igglybuff,Normal\\n', 'Togepi,Fairy\\n', 'Togetic,Fairy\\n', 'Natu,Psychic\\n', 'Xatu,Psychic\\n', 'Mareep,Electric\\n', 'Flaaffy,Electric\\n', 'Ampharos,Electric\\n', 'Bellossom,Grass\\n', 'Marill,Water\\n', 'Azumarill,Water\\n', 'Sudowoodo,Rock\\n', 'Politoed,Water\\n', 'Hoppip,Grass\\n', 'Skiploom,Grass\\n', 'Jumpluff,Grass\\n', 'Aipom,Normal\\n', 'Sunkern,Grass\\n', 'Sunflora,Grass\\n', 'Yanma,Bug\\n', 'Wooper,Water\\n', 'Quagsire,Water\\n', 'Espeon,Psychic\\n', 'Umbreon,Dark\\n', 'Murkrow,Dark\\n', 'Slowking,Water\\n', 'Misdreavus,Ghost\\n', 'Unown,Psychic\\n', 'Wobbuffet,Psychic\\n', 'Girafarig,Normal\\n', 'Pineco,Bug\\n', 'Forretress,Bug\\n', 'Dunsparce,Normal\\n', 'Gligar,Ground\\n', 'Steelix,Steel\\n', 'Snubbull,Fairy\\n', 'Granbull,Fairy\\n', 'Qwilfish,Water\\n', 'Scizor,Bug\\n', 'Shuckle,Bug\\n', 'Heracross,Bug\\n', 'Sneasel,Dark\\n', 'Teddiursa,Normal\\n', 'Ursaring,Normal\\n', 'Slugma,Fire\\n', 'Magcargo,Fire\\n', 'Swinub,Ice\\n', 'Piloswine,Ice\\n', 'Corsola,Water\\n', 'Remoraid,Water\\n', 'Octillery,Water\\n', 'Delibird,Ice\\n', 'Mantine,Water\\n', 'Skarmory,Steel\\n', 'Houndour,Dark\\n', 'Houndoom,Dark\\n', 'Kingdra,Water\\n', 'Phanpy,Ground\\n', 'Donphan,Ground\\n', 'Porygon2,Normal\\n', 'Stantler,Normal\\n', 'Smeargle,Normal\\n', 'Tyrogue,Fighting\\n', 'Hitmontop,Fighting\\n', 'Smoochum,Ice\\n', 'Elekid,Electric\\n', 'Magby,Fire\\n', 'Miltank,Normal\\n', 'Blissey,Normal\\n', 'Raikou,Electric\\n', 'Entei,Fire\\n', 'Suicune,Water\\n', 'Larvitar,Rock\\n', 'Pupitar,Rock\\n', 'Tyranitar,Rock\\n', 'Lugia,Psychic\\n', 'Ho-oh,Fire\\n', 'Celebi,Psychic\\n', 'Treecko,Grass\\n', 'Grovyle,Grass\\n', 'Sceptile,Grass\\n', 'Torchic,Fire\\n', 'Combusken,Fire\\n', 'Blaziken,Fire\\n', 'Mudkip,Water\\n', 'Marshtomp,Water\\n', 'Swampert,Water\\n', 'Poochyena,Dark\\n', 'Mightyena,Dark\\n', 'Zigzagoon,Normal\\n', 'Linoone,Normal\\n', 'Wurmple,Bug\\n', 'Silcoon,Bug\\n', 'Beautifly,Bug\\n', 'Cascoon,Bug\\n', 'Dustox,Bug\\n', 'Lotad,Water\\n', 'Lombre,Water\\n', 'Ludicolo,Water\\n', 'Seedot,Grass\\n', 'Nuzleaf,Grass\\n', 'Shiftry,Grass\\n', 'Taillow,Normal\\n', 'Swellow,Normal\\n', 'Wingull,Water\\n', 'Pelipper,Water\\n', 'Ralts,Psychic\\n', 'Kirlia,Psychic\\n', 'Gardevoir,Psychic\\n', 'Surskit,Bug\\n', 'Masquerain,Bug\\n', 'Shroomish,Grass\\n', 'Breloom,Grass\\n', 'Slakoth,Normal\\n', 'Vigoroth,Normal\\n', 'Slaking,Normal\\n', 'Nincada,Bug\\n', 'Ninjask,Bug\\n', 'Shedinja,Bug\\n', 'Whismur,Normal\\n', 'Loudred,Normal\\n', 'Exploud,Normal\\n', 'Makuhita,Fighting\\n', 'Hariyama,Fighting\\n', 'Azurill,Normal\\n', 'Nosepass,Rock\\n', 'Skitty,Normal\\n', 'Delcatty,Normal\\n', 'Sableye,Dark\\n', 'Mawile,Steel\\n', 'Aron,Steel\\n', 'Lairon,Steel\\n', 'Aggron,Steel\\n', 'Meditite,Fighting\\n', 'Medicham,Fighting\\n', 'Electrike,Electric\\n', 'Manectric,Electric\\n', 'Plusle,Electric\\n', 'Minun,Electric\\n', 'Volbeat,Bug\\n', 'Illumise,Bug\\n', 'Roselia,Grass\\n', 'Gulpin,Poison\\n', 'Swalot,Poison\\n', 'Carvanha,Water\\n', 'Sharpedo,Water\\n', 'Wailmer,Water\\n', 'Wailord,Water\\n', 'Numel,Fire\\n', 'Camerupt,Fire\\n', 'Torkoal,Fire\\n', 'Spoink,Psychic\\n', 'Grumpig,Psychic\\n', 'Spinda,Normal\\n', 'Trapinch,Ground\\n', 'Vibrava,Ground\\n', 'Flygon,Ground\\n', 'Cacnea,Grass\\n', 'Cacturne,Grass\\n', 'Swablu,Normal\\n', 'Altaria,Dragon\\n', 'Zangoose,Normal\\n', 'Seviper,Poison\\n', 'Lunatone,Rock\\n', 'Solrock,Rock\\n', 'Barboach,Water\\n', 'Whiscash,Water\\n', 'Corphish,Water\\n', 'Crawdaunt,Water\\n', 'Baltoy,Ground\\n', 'Claydol,Ground\\n', 'Lileep,Rock\\n', 'Cradily,Rock\\n', 'Anorith,Rock\\n', 'Armaldo,Rock\\n', 'Feebas,Water\\n', 'Milotic,Water\\n', 'Castform,Normal\\n', 'Kecleon,Normal\\n', 'Shuppet,Ghost\\n', 'Banette,Ghost\\n', 'Duskull,Ghost\\n', 'Dusclops,Ghost\\n', 'Tropius,Grass\\n', 'Chimecho,Psychic\\n', 'Absol,Dark\\n', 'Wynaut,Psychic\\n', 'Snorunt,Ice\\n', 'Glalie,Ice\\n', 'Spheal,Ice\\n', 'Sealeo,Ice\\n', 'Walrein,Ice\\n', 'Clamperl,Water\\n', 'Huntail,Water\\n', 'Gorebyss,Water\\n', 'Relicanth,Water\\n', 'Luvdisc,Water\\n', 'Bagon,Dragon\\n', 'Shelgon,Dragon\\n', 'Salamence,Dragon\\n', 'Beldum,Steel\\n', 'Metang,Steel\\n', 'Metagross,Steel\\n', 'Regirock,Rock\\n', 'Regice,Ice\\n', 'Registeel,Steel\\n', 'Latias,Dragon\\n', 'Latios,Dragon\\n', 'Kyogre,Water\\n', 'Groudon,Ground\\n', 'Rayquaza,Dragon\\n', 'Jirachi,Steel\\n', 'Deoxys,Psychic\\n', 'Turtwig,Grass\\n', 'Grotle,Grass\\n', 'Torterra,Grass\\n', 'Chimchar,Fire\\n', 'Monferno,Fire\\n', 'Infernape,Fire\\n', 'Piplup,Water\\n', 'Prinplup,Water\\n', 'Empoleon,Water\\n', 'Starly,Normal\\n', 'Staravia,Normal\\n', 'Staraptor,Normal\\n', 'Bidoof,Normal\\n', 'Bibarel,Normal\\n', 'Kricketot,Bug\\n', 'Kricketune,Bug\\n', 'Shinx,Electric\\n', 'Luxio,Electric\\n', 'Luxray,Electric\\n', 'Budew,Grass\\n', 'Roserade,Grass\\n', 'Cranidos,Rock\\n', 'Rampardos,Rock\\n', 'Shieldon,Rock\\n', 'Bastiodon,Rock\\n', 'Burmy,Bug\\n', 'Wormadam,Bug\\n', 'Mothim,Bug\\n', 'Combee,Bug\\n', 'Vespiquen,Bug\\n', 'Pachirisu,Electric\\n', 'Buizel,Water\\n', 'Floatzel,Water\\n', 'Cherubi,Grass\\n', 'Cherrim,Grass\\n', 'Shellos,Water\\n', 'Gastrodon,Water\\n', 'Ambipom,Normal\\n', 'Drifloon,Ghost\\n', 'Drifblim,Ghost\\n', 'Buneary,Normal\\n', 'Lopunny,Normal\\n', 'Mismagius,Ghost\\n', 'Honchkrow,Dark\\n', 'Glameow,Normal\\n', 'Purugly,Normal\\n', 'Chingling,Psychic\\n', 'Stunky,Poison\\n', 'Skuntank,Poison\\n', 'Bronzor,Steel\\n', 'Bronzong,Steel\\n', 'Bonsly,Rock\\n', 'Mime Jr.,Psychic\\n', 'Happiny,Normal\\n', 'Chatot,Normal\\n', 'Spiritomb,Ghost\\n', 'Gible,Dragon\\n', 'Gabite,Dragon\\n', 'Garchomp,Dragon\\n', 'Munchlax,Normal\\n', 'Riolu,Fighting\\n', 'Lucario,Fighting\\n', 'Hippopotas,Ground\\n', 'Hippowdon,Ground\\n', 'Skorupi,Poison\\n', 'Drapion,Poison\\n', 'Croagunk,Poison\\n', 'Toxicroak,Poison\\n', 'Carnivine,Grass\\n', 'Finneon,Water\\n', 'Lumineon,Water\\n', 'Mantyke,Water\\n', 'Snover,Grass\\n', 'Abomasnow,Grass\\n', 'Weavile,Dark\\n', 'Magnezone,Electric\\n', 'Lickilicky,Normal\\n', 'Rhyperior,Ground\\n', 'Tangrowth,Grass\\n', 'Electivire,Electric\\n', 'Magmortar,Fire\\n', 'Togekiss,Fairy\\n', 'Yanmega,Bug\\n', 'Leafeon,Grass\\n', 'Glaceon,Ice\\n', 'Gliscor,Ground\\n', 'Mamoswine,Ice\\n', 'Porygon-Z,Normal\\n', 'Gallade,Psychic\\n', 'Probopass,Rock\\n', 'Dusknoir,Ghost\\n', 'Froslass,Ice\\n', 'Rotom,Electric\\n', 'Uxie,Psychic\\n', 'Mesprit,Psychic\\n', 'Azelf,Psychic\\n', 'Dialga,Steel\\n', 'Palkia,Water\\n', 'Heatran,Fire\\n', 'Regigigas,Normal\\n', 'Giratina,Ghost\\n', 'Cresselia,Psychic\\n', 'Phione,Water\\n', 'Manaphy,Water\\n', 'Darkrai,Dark\\n', 'Shaymin,Grass\\n', 'Arceus,Normal\\n', 'Victini,Psychic\\n', 'Snivy,Grass\\n', 'Servine,Grass\\n', 'Serperior,Grass\\n', 'Tepig,Fire\\n', 'Pignite,Fire\\n', 'Emboar,Fire\\n', 'Oshawott,Water\\n', 'Dewott,Water\\n', 'Samurott,Water\\n', 'Patrat,Normal\\n', 'Watchog,Normal\\n', 'Lillipup,Normal\\n', 'Herdier,Normal\\n', 'Stoutland,Normal\\n', 'Purrloin,Dark\\n', 'Liepard,Dark\\n', 'Pansage,Grass\\n', 'Simisage,Grass\\n', 'Pansear,Fire\\n', 'Simisear,Fire\\n', 'Panpour,Water\\n', 'Simipour,Water\\n', 'Munna,Psychic\\n', 'Musharna,Psychic\\n', 'Pidove,Normal\\n', 'Tranquill,Normal\\n', 'Unfezant,Normal\\n', 'Blitzle,Electric\\n', 'Zebstrika,Electric\\n', 'Roggenrola,Rock\\n', 'Boldore,Rock\\n', 'Gigalith,Rock\\n', 'Woobat,Psychic\\n', 'Swoobat,Psychic\\n', 'Drilbur,Ground\\n', 'Excadrill,Ground\\n', 'Audino,Normal\\n', 'Timburr,Fighting\\n', 'Gurdurr,Fighting\\n', 'Conkeldurr,Fighting\\n', 'Tympole,Water\\n', 'Palpitoad,Water\\n', 'Seismitoad,Water\\n', 'Throh,Fighting\\n', 'Sawk,Fighting\\n', 'Sewaddle,Bug\\n', 'Swadloon,Bug\\n', 'Leavanny,Bug\\n', 'Venipede,Bug\\n', 'Whirlipede,Bug\\n', 'Scolipede,Bug\\n', 'Cottonee,Grass\\n', 'Whimsicott,Grass\\n', 'Petilil,Grass\\n', 'Lilligant,Grass\\n', 'Basculin,Water\\n', 'Sandile,Ground\\n', 'Krokorok,Ground\\n', 'Krookodile,Ground\\n', 'Darumaka,Fire\\n', 'Darmanitan,Fire\\n', 'Maractus,Grass\\n', 'Dwebble,Bug\\n', 'Crustle,Bug\\n', 'Scraggy,Dark\\n', 'Scrafty,Dark\\n', 'Sigilyph,Psychic\\n', 'Yamask,Ghost\\n', 'Cofagrigus,Ghost\\n', 'Tirtouga,Water\\n', 'Carracosta,Water\\n', 'Archen,Rock\\n', 'Archeops,Rock\\n', 'Trubbish,Poison\\n', 'Garbodor,Poison\\n', 'Zorua,Dark\\n', 'Zoroark,Dark\\n', 'Minccino,Normal\\n', 'Cinccino,Normal\\n', 'Gothita,Psychic\\n', 'Gothorita,Psychic\\n', 'Gothitelle,Psychic\\n', 'Solosis,Psychic\\n', 'Duosion,Psychic\\n', 'Reuniclus,Psychic\\n', 'Ducklett,Water\\n', 'Swanna,Water\\n', 'Vanillite,Ice\\n', 'Vanillish,Ice\\n', 'Vanilluxe,Ice\\n', 'Deerling,Normal\\n', 'Sawsbuck,Normal\\n', 'Emolga,Electric\\n', 'Karrablast,Bug\\n', 'Escavalier,Bug\\n', 'Foongus,Grass\\n', 'Amoonguss,Grass\\n', 'Frillish,Water\\n', 'Jellicent,Water\\n', 'Alomomola,Water\\n', 'Joltik,Bug\\n', 'Galvantula,Bug\\n', 'Ferroseed,Grass\\n', 'Ferrothorn,Grass\\n', 'Klink,Steel\\n', 'Klang,Steel\\n', 'Klinklang,Steel\\n', 'Tynamo,Electric\\n', 'Eelektrik,Electric\\n', 'Eelektross,Electric\\n', 'Elgyem,Psychic\\n', 'Beheeyem,Psychic\\n', 'Litwick,Ghost\\n', 'Lampent,Ghost\\n', 'Chandelure,Ghost\\n', 'Axew,Dragon\\n', 'Fraxure,Dragon\\n', 'Haxorus,Dragon\\n', 'Cubchoo,Ice\\n', 'Beartic,Ice\\n', 'Cryogonal,Ice\\n', 'Shelmet,Bug\\n', 'Accelgor,Bug\\n', 'Stunfisk,Ground\\n', 'Mienfoo,Fighting\\n', 'Mienshao,Fighting\\n', 'Druddigon,Dragon\\n', 'Golett,Ground\\n', 'Golurk,Ground\\n', 'Pawniard,Dark\\n', 'Bisharp,Dark\\n', 'Bouffalant,Normal\\n', 'Rufflet,Normal\\n', 'Braviary,Normal\\n', 'Vullaby,Dark\\n', 'Mandibuzz,Dark\\n', 'Heatmor,Fire\\n', 'Durant,Bug\\n', 'Deino,Dark\\n', 'Zweilous,Dark\\n', 'Hydreigon,Dark\\n', 'Larvesta,Bug\\n', 'Volcarona,Bug\\n', 'Cobalion,Steel\\n', 'Terrakion,Rock\\n', 'Virizion,Grass\\n', 'Tornadus,Flying\\n', 'Thundurus,Electric\\n', 'Reshiram,Dragon\\n', 'Zekrom,Dragon\\n', 'Landorus,Ground\\n', 'Kyurem,Dragon\\n', 'Keldeo,Water\\n', 'Meloetta,Normal\\n', 'Genesect,Bug\\n', 'Chespin,Grass\\n', 'Quilladin,Grass\\n', 'Chesnaught,Grass\\n', 'Fennekin,Fire\\n', 'Braixen,Fire\\n', 'Delphox,Fire\\n', 'Froakie,Water\\n', 'Frogadier,Water\\n', 'Greninja,Water\\n', 'Bunnelby,Normal\\n', 'Diggersby,Normal\\n', 'Fletchling,Normal\\n', 'Fletchinder,Fire\\n', 'Talonflame,Fire\\n', 'Scatterbug,Bug\\n', 'Spewpa,Bug\\n', 'Vivillon,Bug\\n', 'Litleo,Fire\\n', 'Pyroar,Fire\\n', 'FlabÃ©bÃ©,Fairy\\n', 'Floette,Fairy\\n', 'Florges,Fairy\\n', 'Skiddo,Grass\\n', 'Gogoat,Grass\\n', 'Pancham,Fighting\\n', 'Pangoro,Fighting\\n', 'Furfrou,Normal\\n', 'Espurr,Psychic\\n', 'Meowstic,Psychic\\n', 'Honedge,Steel\\n', 'Doublade,Steel\\n', 'Aegislash,Steel\\n', 'Spritzee,Fairy\\n', 'Aromatisse,Fairy\\n', 'Swirlix,Fairy\\n', 'Slurpuff,Fairy\\n', 'Inkay,Dark\\n', 'Malamar,Dark\\n', 'Binacle,Rock\\n', 'Barbaracle,Rock\\n', 'Skrelp,Poison\\n', 'Dragalge,Poison\\n', 'Clauncher,Water\\n', 'Clawitzer,Water\\n', 'Helioptile,Electric\\n', 'Heliolisk,Electric\\n', 'Tyrunt,Rock\\n', 'Tyrantrum,Rock\\n', 'Amaura,Rock\\n', 'Aurorus,Rock\\n', 'Sylveon,Fairy\\n', 'Hawlucha,Fighting\\n', 'Dedenne,Electric\\n', 'Carbink,Rock\\n', 'Goomy,Dragon\\n', 'Sliggoo,Dragon\\n', 'Goodra,Dragon\\n', 'Klefki,Steel\\n', 'Phantump,Ghost\\n', 'Trevenant,Ghost\\n', 'Pumpkaboo,Ghost\\n', 'Gourgeist,Ghost\\n', 'Bergmite,Ice\\n', 'Avalugg,Ice\\n', 'Noibat,Flying\\n', 'Noivern,Flying\\n', 'Xerneas,Fairy\\n', 'Yveltal,Dark\\n', 'Zygarde,Dragon\\n', 'Diancie,Rock\\n', 'Hoopa,Psychic\\n', 'Volcanion,Fire\\n']\n"
     ]
    }
   ],
   "source": [
    "print(pokemons)"
   ]
  },
  {
   "cell_type": "code",
   "execution_count": null,
   "id": "4e56bc02-3be5-4540-a5f8-6fa83209dbe8",
   "metadata": {},
   "outputs": [],
   "source": []
  }
 ],
 "metadata": {
  "kernelspec": {
   "display_name": "Python 3",
   "language": "python",
   "name": "python3"
  },
  "language_info": {
   "codemirror_mode": {
    "name": "ipython",
    "version": 3
   },
   "file_extension": ".py",
   "mimetype": "text/x-python",
   "name": "python",
   "nbconvert_exporter": "python",
   "pygments_lexer": "ipython3",
   "version": "3.8.8"
  }
 },
 "nbformat": 4,
 "nbformat_minor": 5
}
